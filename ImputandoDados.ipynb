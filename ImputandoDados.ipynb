{
 "cells": [
  {
   "cell_type": "code",
   "execution_count": 13,
   "metadata": {},
   "outputs": [],
   "source": [
    "#Importando bibliotecas e abrindo arquivos necessários\n",
    "import pandas as pd\n",
    "import numpy as np\n",
    "from sklearn.impute import SimpleImputer\n",
    "abas= pd.ExcelFile(\"input_planilhaCanalHolder_20200211.xlsx\")\n",
    "MA=abas.parse('Múltiplos Ações')\n",
    "FA=abas.parse('Fundamentos Ações')"
   ]
  },
  {
   "cell_type": "code",
   "execution_count": 16,
   "metadata": {},
   "outputs": [],
   "source": [
    "#Função usada para realizar a inputação de dados numéricos em um dataFrame\n",
    "def imputaDados(modoOperação,dataFrame):\n",
    "    imp_operation = SimpleImputer(missing_values=np.nan, strategy=modoOperação)\n",
    "    return imp_operation.fit_transform(dataFrame[dataFrame._get_numeric_data().columns])\n",
    "\"\"\" Paramêtros:\n",
    "        modoOperação: Nome da estratégia a ser usada para realizar a inputação, podendo ser \"mean\" ou \"median\"\n",
    "        dataFrame: DataFrame usado para a inputação de dados, sendo necessário conter colunas numéricas\n",
    "    Return: Array contendo os novos valores para as colunas numéricas do dataFrame \"\"\""
   ]
  },
  {
   "cell_type": "code",
   "execution_count": 4,
   "metadata": {},
   "outputs": [],
   "source": [
    "#Merge entre as duas primeiras abas do arquivo input_planilhaCanalHolder_20200211.xlsx\n",
    "uniaoAbas = pd.merge(MA, FA, on=\"Nome\", how='outer', suffixes=('', '_y'))\n",
    "uniaoAbas = uniaoAbas.drop(list(uniaoAbas.filter(regex='_y$')), axis=1)"
   ]
  },
  {
   "cell_type": "code",
   "execution_count": 5,
   "metadata": {},
   "outputs": [],
   "source": [
    "#Removendo espaços nos nomes das colunas, removendo uma coluna inutil e substituindo atributos vazios para NaN\n",
    "uniaoAbas.columns = [str(c).replace(' ', '_') for c in uniaoAbas.columns]\n",
    "uniaoAbas.drop(\"Unnamed:_0\",axis=1,inplace=True)\n",
    "uniaoAbas.replace(\"-\",np.nan,inplace=True)"
   ]
  },
  {
   "cell_type": "code",
   "execution_count": 7,
   "metadata": {
    "collapsed": true
   },
   "outputs": [
    {
     "data": {
      "text/plain": [
       "Participação_no_Ibovespa                  295\n",
       "Participação_no_IBRX_100                  259\n",
       "Div._Líquida/Ebitda                       113\n",
       "Crescimento_Médio_Anual                    91\n",
       "EV/EBITDA                                  85\n",
       "2018                                       83\n",
       "CAPEX                                      79\n",
       "Capex/FCO                                  79\n",
       "Lucro_Operacional_(EBITDA)                 70\n",
       "PSR                                        69\n",
       "2015                                       68\n",
       "ROIC                                       65\n",
       "2016                                       64\n",
       "2017                                       62\n",
       "Receita_Operacional                        46\n",
       "Dívida_Bruta                               46\n",
       "Caixa_e_Equivalentes                       46\n",
       "Caixa_Líquido                              46\n",
       "Lucro_Operacional_(EBIT)                   44\n",
       "Lucro_Bruto                                44\n",
       "Passivo_Não_Circulante                     44\n",
       "Ativo_Não_Circulante                       44\n",
       "Beta                                       42\n",
       "ROE                                        39\n",
       "Payout                                     22\n",
       "P/L                                        16\n",
       "L/P                                        16\n",
       "Dividendo_por_Ação                         14\n",
       "FCO                                        13\n",
       "Lucro_por_Ação                             13\n",
       "ROA                                        13\n",
       "P/VPA                                       4\n",
       "Cotação                                     4\n",
       "Valor_de_Mercado                            1\n",
       "Classe                                      0\n",
       "Segmento_Bovespa                            0\n",
       "Subsetor_Bovespa                            0\n",
       "Setor_Bovespa                               0\n",
       "Seg._Listagem                               0\n",
       "Classificação                               0\n",
       "Código_de_Neg.                              0\n",
       "Dividend_Yield                              0\n",
       "Fluxo_de_Caixa_de_Financiamentos_(FCF)      0\n",
       "Patrimônio                                  0\n",
       "Div_Bruta/PL                                0\n",
       "Fluxo_de_Caixa_Operacional_(FCO)            0\n",
       "Patrimônio_Líquido                          0\n",
       "Passivo_Circulante                          0\n",
       "Ativo_Circulante                            0\n",
       "Margem_Líquida                              0\n",
       "dtype: int64"
      ]
     },
     "execution_count": 7,
     "metadata": {},
     "output_type": "execute_result"
    }
   ],
   "source": [
    "#\"Teste\" printando a quantidade de registros incompletos por atributos\n",
    "uniaoAbas.isnull().sum(axis=0).sort_values(ascending=False).head(50)"
   ]
  },
  {
   "cell_type": "code",
   "execution_count": 17,
   "metadata": {},
   "outputs": [],
   "source": [
    "#Atualização do dataframe, recebendo novos valores para as colunas numéricas, dessa vez, sem atributos nulos\n",
    "uniaoAbas[uniaoAbas._get_numeric_data().columns]=imputaDados(\"mean\",uniaoAbas)"
   ]
  },
  {
   "cell_type": "code",
   "execution_count": 19,
   "metadata": {},
   "outputs": [
    {
     "data": {
      "text/plain": [
       "Fluxo_de_Caixa_de_Financiamentos_(FCF)    0\n",
       "PSR                                       0\n",
       "2015                                      0\n",
       "Análise                                   0\n",
       "Div._Líquida/Ebitda                       0\n",
       "Div_Bruta/PL                              0\n",
       "Caixa_Líquido                             0\n",
       "Caixa_e_Equivalentes                      0\n",
       "Dívida_Bruta                              0\n",
       "Patrimônio                                0\n",
       "Payout                                    0\n",
       "Dividend_Yield                            0\n",
       "Lucro_por_Ação                            0\n",
       "Dividendo_por_Ação                        0\n",
       "Cotação                                   0\n",
       "P/VPA                                     0\n",
       "2017                                      0\n",
       "EV/EBITDA                                 0\n",
       "L/P                                       0\n",
       "P/L                                       0\n",
       "Segmento_Bovespa                          0\n",
       "Subsetor_Bovespa                          0\n",
       "Setor_Bovespa                             0\n",
       "Seg._Listagem                             0\n",
       "Classificação                             0\n",
       "Participação_no_IBRX_100                  0\n",
       "Participação_no_Ibovespa                  0\n",
       "Valor_de_Mercado                          0\n",
       "Código_de_Neg.                            0\n",
       "Classe                                    0\n",
       "2016                                      0\n",
       "2018                                      0\n",
       "Fluxo_de_Caixa_de_Investimentos_(FCI)     0\n",
       "Lucro_Operacional_(EBIT)                  0\n",
       "CAPEX                                     0\n",
       "Fluxo_de_Caixa_Operacional_(FCO)          0\n",
       "Patrimônio_Líquido                        0\n",
       "Passivo_Não_Circulante                    0\n",
       "Passivo_Circulante                        0\n",
       "Ativo_Não_Circulante                      0\n",
       "Ativo_Circulante                          0\n",
       "Margem_Líquida                            0\n",
       "Lucro_Líquido                             0\n",
       "Margem_Operacional_(EBITDA)               0\n",
       "Lucro_Operacional_(EBITDA)                0\n",
       "Grau_de_Alavancagem_Operacional           0\n",
       "Margem_Operacional_(EBIT)                 0\n",
       "Margem_Bruta                              0\n",
       "Crescimento_Médio_Anual                   0\n",
       "Lucro_Bruto                               0\n",
       "dtype: int64"
      ]
     },
     "execution_count": 19,
     "metadata": {},
     "output_type": "execute_result"
    }
   ],
   "source": [
    "#Mesmo \"teste\" sendo realizado novamente, agora sem registros incompletos\n",
    "uniaoAbas.isnull().sum(axis=0).sort_values(ascending=False).head(50)"
   ]
  }
 ],
 "metadata": {
  "kernelspec": {
   "display_name": "Python 3",
   "language": "python",
   "name": "python3"
  },
  "language_info": {
   "codemirror_mode": {
    "name": "ipython",
    "version": 3
   },
   "file_extension": ".py",
   "mimetype": "text/x-python",
   "name": "python",
   "nbconvert_exporter": "python",
   "pygments_lexer": "ipython3",
   "version": "3.8.3"
  }
 },
 "nbformat": 4,
 "nbformat_minor": 4
}
