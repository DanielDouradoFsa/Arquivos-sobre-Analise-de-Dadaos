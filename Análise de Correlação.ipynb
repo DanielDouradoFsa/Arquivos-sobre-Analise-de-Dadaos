{
 "cells": [
  {
   "cell_type": "code",
   "execution_count": 1,
   "metadata": {},
   "outputs": [],
   "source": [
    "import pandas as pd\n",
    "import numpy as np\n",
    "df= pd.read_excel(\"input_acoes_NotasFundamentei_20200517.xlsx\")\n",
    "abas= pd.ExcelFile(\"input_planilhaCanalHolder_20200211.xlsx\")\n",
    "MA=abas.parse('Múltiplos Ações')\n",
    "FA=abas.parse('Fundamentos Ações')"
   ]
  },
  {
   "cell_type": "code",
   "execution_count": 8,
   "metadata": {},
   "outputs": [],
   "source": [
    "#Fazendo alterações no arquivo, removendo espaços nas colunas e substituindo valores vazios nos registros por 0\n",
    "MA.columns = [str(c).replace(' ', '_') for c in MA.columns]\n",
    "df.columns = [str(c).replace(' ', '_') for c in df.columns]"
   ]
  },
  {
   "cell_type": "code",
   "execution_count": 9,
   "metadata": {},
   "outputs": [],
   "source": [
    "MA=MA.join(df.set_index(\"Código_de_Neg.\"),on=\"Código_de_Neg.\")"
   ]
  },
  {
   "cell_type": "code",
   "execution_count": 17,
   "metadata": {},
   "outputs": [],
   "source": [
    "uniaoAbas = pd.merge(MA, FA, on=\"Nome\", how='outer', suffixes=('', '_y'))\n",
    "uniaoAbas = uniaoAbas.drop(list(uniaoAbas.filter(regex='_y$')), axis=1)"
   ]
  },
  {
   "cell_type": "code",
   "execution_count": 27,
   "metadata": {},
   "outputs": [],
   "source": [
    "uniaoAbas.replace('-', np.nan,inplace=True)"
   ]
  },
  {
   "cell_type": "code",
   "execution_count": 23,
   "metadata": {},
   "outputs": [],
   "source": [
    "uniaoAbas.dropna(inplace=True)\n"
   ]
  },
  {
   "cell_type": "code",
   "execution_count": 36,
   "metadata": {},
   "outputs": [],
   "source": [
    "analiseCorrelação=uniaoAbas.corrwith(uniaoAbas[\"NotaFundamentei20200201\"]).sort_values(ascending=False)[2:]"
   ]
  },
  {
   "cell_type": "code",
   "execution_count": 37,
   "metadata": {},
   "outputs": [
    {
     "data": {
      "text/plain": [
       "Capex/D&A                                 0.334607\n",
       "Lucro Líquido                             0.300188\n",
       "Fluxo de Caixa de Financiamentos (FCF)    0.253796\n",
       "Crescimento_Médio_Anual                   0.244131\n",
       "Cotação                                   0.237944\n",
       "2015                                      0.236134\n",
       "EV/EBITDA                                 0.219600\n",
       "ROA                                       0.218563\n",
       "P/VPA                                     0.197973\n",
       "PSR                                       0.175526\n",
       "ROE                                       0.174288\n",
       "Valor de Mercado                          0.122936\n",
       "Valor_de_Mercado                          0.122936\n",
       "Fluxo de Caixa de Investimentos (FCI)     0.118124\n",
       "Participação_no_Ibovespa                  0.094437\n",
       "Participação no Ibovespa                  0.094437\n",
       "Participação no IBRX 100                  0.094380\n",
       "Participação_no_IBRX_100                  0.094380\n",
       "Capex/FCO                                 0.053754\n",
       "Volume Negociado                          0.052668\n",
       "Volume_Negociado                          0.052668\n",
       "Lucro Operacional (EBIT)                  0.009993\n",
       "Lucro_por_Ação                            0.009452\n",
       "Unnamed:_0                               -0.001378\n",
       "Unnamed: 0                               -0.001378\n",
       "P/L                                      -0.034513\n",
       "ROIC                                     -0.060621\n",
       "Lucro Operacional (EBITDA)               -0.072463\n",
       "Caixa_e_Equivalentes                     -0.083269\n",
       "2018                                     -0.085186\n",
       "Receita Operacional                      -0.092464\n",
       "Quantidade de Negócios                   -0.094983\n",
       "Quantidade_de_Negócios                   -0.094983\n",
       "2016                                     -0.103780\n",
       "CAPEX                                    -0.104566\n",
       "Passivo Circulante                       -0.106518\n",
       "Patrimônio Líquido                       -0.107462\n",
       "Patrimônio                               -0.107462\n",
       "Ativo Circulante                         -0.109052\n",
       "Lucro Bruto                              -0.109707\n",
       "2017                                     -0.118440\n",
       "FCO                                      -0.137831\n",
       "Dividendo_por_Ação                       -0.148171\n",
       "Fluxo de Caixa Operacional (FCO)         -0.156250\n",
       "L/P                                      -0.156992\n",
       "Ativo Não Circulante                     -0.167970\n",
       "Grau de Alavancagem Operacional          -0.167989\n",
       "Beta                                     -0.192317\n",
       "Passivo Não Circulante                   -0.225258\n",
       "Div._Líquida/Ebitda                      -0.231553\n",
       "Dívida_Bruta                             -0.237009\n",
       "Payout                                   -0.239224\n",
       "Dividend_Yield                           -0.296906\n",
       "Div_Bruta/PL                             -0.327833\n",
       "Caixa_Líquido                            -0.330496\n",
       "dtype: float64"
      ]
     },
     "execution_count": 37,
     "metadata": {},
     "output_type": "execute_result"
    }
   ],
   "source": [
    "analiseCorrelação"
   ]
  },
  {
   "cell_type": "code",
   "execution_count": null,
   "metadata": {},
   "outputs": [],
   "source": []
  }
 ],
 "metadata": {
  "kernelspec": {
   "display_name": "Python 3",
   "language": "python",
   "name": "python3"
  },
  "language_info": {
   "codemirror_mode": {
    "name": "ipython",
    "version": 3
   },
   "file_extension": ".py",
   "mimetype": "text/x-python",
   "name": "python",
   "nbconvert_exporter": "python",
   "pygments_lexer": "ipython3",
   "version": "3.8.3"
  }
 },
 "nbformat": 4,
 "nbformat_minor": 4
}
