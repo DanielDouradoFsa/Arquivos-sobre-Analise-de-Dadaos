{
 "cells": [
  {
   "cell_type": "code",
   "execution_count": 16,
   "metadata": {},
   "outputs": [],
   "source": [
    "import pandas as pd\n",
    "import numpy as np\n",
    "import sklearn\n",
    "import matplotlib.pyplot as plt\n",
    "# Importando o módulo de Regressão Linear do scikit-learn\n",
    "from sklearn.linear_model import LinearRegression\n",
    "from sklearn.model_selection import train_test_split\n",
    "from Análise_de_Correlação import analiseCorr\n",
    "from Normalização import normalizaDf\n",
    "df= pd.read_excel(\"input_acoes_NotasFundamentei_20200517.xlsx\")\n",
    "abas= pd.ExcelFile(\"input_planilhaCanalHolder_20200211.xlsx\")\n",
    "MA=abas.parse('Múltiplos Ações')\n",
    "FA=abas.parse('Fundamentos Ações')"
   ]
  },
  {
   "cell_type": "code",
   "execution_count": 17,
   "metadata": {},
   "outputs": [],
   "source": [
    "#Join das tabelas \"Fundamentos ações\" e \"NotasCanalFundamentei\" e um merge entre as duas primeiras abas do arquivo input_planilhaCanalHolder_20200211.xlsx\n",
    "MA=MA.join(df.set_index(\"Código de Neg.\"),on=\"Código de Neg.\")\n",
    "uniaoAbas = pd.merge(MA, FA, on=\"Nome\", how='outer', suffixes=('', '_y'))\n",
    "uniaoAbas = uniaoAbas.drop(list(uniaoAbas.filter(regex='_y$')), axis=1)\n",
    "#Remoção de uma coluna inútil\n",
    "uniaoAbas.drop(\"Unnamed: 0\",axis=1,inplace=True)"
   ]
  },
  {
   "cell_type": "code",
   "execution_count": 18,
   "metadata": {},
   "outputs": [],
   "source": [
    "#Removando uma coluna de notas que nao foi utilizada, pois tem dados faltando\n",
    "uniaoAbas.drop(\"NotaFundamentei20200201\",axis=1,inplace=True)"
   ]
  },
  {
   "cell_type": "code",
   "execution_count": 19,
   "metadata": {},
   "outputs": [],
   "source": [
    "#Selecionando todas as empresas que possuem notas e estão com seus dados completos\n",
    "empresasComNotas=uniaoAbas.replace(\"-\",np.nan)\n",
    "empresasComNotas.dropna(inplace=True)"
   ]
  },
  {
   "cell_type": "code",
   "execution_count": 129,
   "metadata": {},
   "outputs": [],
   "source": [
    "avaliação=[]\n",
    "for k in empresasComNotas[\"NotaFundamentei\"]:\n",
    "    if k>=3.0:\n",
    "        avaliação.append(\"Boa\")\n",
    "    #elif (k>=3) & (k<4):\n",
    "     #   avaliação.append(\"Mediana\")\n",
    "    else:\n",
    "        avaliação.append(\"Ruim\")"
   ]
  },
  {
   "cell_type": "code",
   "execution_count": 130,
   "metadata": {},
   "outputs": [
    {
     "data": {
      "text/html": [
       "<div>\n",
       "<style scoped>\n",
       "    .dataframe tbody tr th:only-of-type {\n",
       "        vertical-align: middle;\n",
       "    }\n",
       "\n",
       "    .dataframe tbody tr th {\n",
       "        vertical-align: top;\n",
       "    }\n",
       "\n",
       "    .dataframe thead th {\n",
       "        text-align: right;\n",
       "    }\n",
       "</style>\n",
       "<table border=\"1\" class=\"dataframe\">\n",
       "  <thead>\n",
       "    <tr style=\"text-align: right;\">\n",
       "      <th></th>\n",
       "      <th>NotaFundamentei</th>\n",
       "      <th>Avaliação</th>\n",
       "    </tr>\n",
       "  </thead>\n",
       "  <tbody>\n",
       "    <tr>\n",
       "      <th>31</th>\n",
       "      <td>4.6</td>\n",
       "      <td>Boa</td>\n",
       "    </tr>\n",
       "    <tr>\n",
       "      <th>39</th>\n",
       "      <td>4.5</td>\n",
       "      <td>Boa</td>\n",
       "    </tr>\n",
       "    <tr>\n",
       "      <th>63</th>\n",
       "      <td>2.6</td>\n",
       "      <td>Ruim</td>\n",
       "    </tr>\n",
       "    <tr>\n",
       "      <th>84</th>\n",
       "      <td>2.4</td>\n",
       "      <td>Ruim</td>\n",
       "    </tr>\n",
       "    <tr>\n",
       "      <th>101</th>\n",
       "      <td>3.4</td>\n",
       "      <td>Boa</td>\n",
       "    </tr>\n",
       "    <tr>\n",
       "      <th>102</th>\n",
       "      <td>3.2</td>\n",
       "      <td>Boa</td>\n",
       "    </tr>\n",
       "    <tr>\n",
       "      <th>111</th>\n",
       "      <td>3.7</td>\n",
       "      <td>Boa</td>\n",
       "    </tr>\n",
       "    <tr>\n",
       "      <th>117</th>\n",
       "      <td>3.3</td>\n",
       "      <td>Boa</td>\n",
       "    </tr>\n",
       "    <tr>\n",
       "      <th>119</th>\n",
       "      <td>2.4</td>\n",
       "      <td>Ruim</td>\n",
       "    </tr>\n",
       "    <tr>\n",
       "      <th>133</th>\n",
       "      <td>4.4</td>\n",
       "      <td>Boa</td>\n",
       "    </tr>\n",
       "    <tr>\n",
       "      <th>136</th>\n",
       "      <td>4.8</td>\n",
       "      <td>Boa</td>\n",
       "    </tr>\n",
       "    <tr>\n",
       "      <th>149</th>\n",
       "      <td>4.6</td>\n",
       "      <td>Boa</td>\n",
       "    </tr>\n",
       "    <tr>\n",
       "      <th>170</th>\n",
       "      <td>2.4</td>\n",
       "      <td>Ruim</td>\n",
       "    </tr>\n",
       "    <tr>\n",
       "      <th>175</th>\n",
       "      <td>4.3</td>\n",
       "      <td>Boa</td>\n",
       "    </tr>\n",
       "    <tr>\n",
       "      <th>178</th>\n",
       "      <td>3.3</td>\n",
       "      <td>Boa</td>\n",
       "    </tr>\n",
       "    <tr>\n",
       "      <th>218</th>\n",
       "      <td>4.0</td>\n",
       "      <td>Boa</td>\n",
       "    </tr>\n",
       "    <tr>\n",
       "      <th>228</th>\n",
       "      <td>4.8</td>\n",
       "      <td>Boa</td>\n",
       "    </tr>\n",
       "    <tr>\n",
       "      <th>232</th>\n",
       "      <td>4.1</td>\n",
       "      <td>Boa</td>\n",
       "    </tr>\n",
       "    <tr>\n",
       "      <th>247</th>\n",
       "      <td>3.3</td>\n",
       "      <td>Boa</td>\n",
       "    </tr>\n",
       "    <tr>\n",
       "      <th>248</th>\n",
       "      <td>4.1</td>\n",
       "      <td>Boa</td>\n",
       "    </tr>\n",
       "    <tr>\n",
       "      <th>263</th>\n",
       "      <td>2.7</td>\n",
       "      <td>Ruim</td>\n",
       "    </tr>\n",
       "    <tr>\n",
       "      <th>264</th>\n",
       "      <td>2.7</td>\n",
       "      <td>Ruim</td>\n",
       "    </tr>\n",
       "    <tr>\n",
       "      <th>277</th>\n",
       "      <td>3.6</td>\n",
       "      <td>Boa</td>\n",
       "    </tr>\n",
       "    <tr>\n",
       "      <th>278</th>\n",
       "      <td>4.5</td>\n",
       "      <td>Boa</td>\n",
       "    </tr>\n",
       "    <tr>\n",
       "      <th>290</th>\n",
       "      <td>2.8</td>\n",
       "      <td>Ruim</td>\n",
       "    </tr>\n",
       "    <tr>\n",
       "      <th>291</th>\n",
       "      <td>3.5</td>\n",
       "      <td>Boa</td>\n",
       "    </tr>\n",
       "    <tr>\n",
       "      <th>322</th>\n",
       "      <td>2.7</td>\n",
       "      <td>Ruim</td>\n",
       "    </tr>\n",
       "    <tr>\n",
       "      <th>354</th>\n",
       "      <td>3.2</td>\n",
       "      <td>Boa</td>\n",
       "    </tr>\n",
       "    <tr>\n",
       "      <th>356</th>\n",
       "      <td>3.3</td>\n",
       "      <td>Boa</td>\n",
       "    </tr>\n",
       "    <tr>\n",
       "      <th>379</th>\n",
       "      <td>2.5</td>\n",
       "      <td>Ruim</td>\n",
       "    </tr>\n",
       "    <tr>\n",
       "      <th>385</th>\n",
       "      <td>5.0</td>\n",
       "      <td>Boa</td>\n",
       "    </tr>\n",
       "    <tr>\n",
       "      <th>389</th>\n",
       "      <td>4.0</td>\n",
       "      <td>Boa</td>\n",
       "    </tr>\n",
       "  </tbody>\n",
       "</table>\n",
       "</div>"
      ],
      "text/plain": [
       "     NotaFundamentei Avaliação\n",
       "31               4.6       Boa\n",
       "39               4.5       Boa\n",
       "63               2.6      Ruim\n",
       "84               2.4      Ruim\n",
       "101              3.4       Boa\n",
       "102              3.2       Boa\n",
       "111              3.7       Boa\n",
       "117              3.3       Boa\n",
       "119              2.4      Ruim\n",
       "133              4.4       Boa\n",
       "136              4.8       Boa\n",
       "149              4.6       Boa\n",
       "170              2.4      Ruim\n",
       "175              4.3       Boa\n",
       "178              3.3       Boa\n",
       "218              4.0       Boa\n",
       "228              4.8       Boa\n",
       "232              4.1       Boa\n",
       "247              3.3       Boa\n",
       "248              4.1       Boa\n",
       "263              2.7      Ruim\n",
       "264              2.7      Ruim\n",
       "277              3.6       Boa\n",
       "278              4.5       Boa\n",
       "290              2.8      Ruim\n",
       "291              3.5       Boa\n",
       "322              2.7      Ruim\n",
       "354              3.2       Boa\n",
       "356              3.3       Boa\n",
       "379              2.5      Ruim\n",
       "385              5.0       Boa\n",
       "389              4.0       Boa"
      ]
     },
     "execution_count": 130,
     "metadata": {},
     "output_type": "execute_result"
    }
   ],
   "source": [
    "empresasComNotas['Avaliação'] = avaliação\n",
    "empresasComNotas[[\"NotaFundamentei\",\"Avaliação\"]]"
   ]
  },
  {
   "cell_type": "code",
   "execution_count": 131,
   "metadata": {},
   "outputs": [],
   "source": [
    "dfCNota=normalizaDf(empresasComNotas)"
   ]
  },
  {
   "cell_type": "code",
   "execution_count": 132,
   "metadata": {},
   "outputs": [],
   "source": [
    "#Gerando a analise de correlação dos atributos, já excluindo a \"NotaFundamentei\" da resposta\n",
    "analise=analiseCorr(\"NotaFundamentei\",dfCNota)[1:]"
   ]
  },
  {
   "cell_type": "code",
   "execution_count": 133,
   "metadata": {},
   "outputs": [],
   "source": [
    "#Selecionando os melhores atributos para treinar o regressor\n",
    "melhoresAtributos=[]\n",
    "count=0\n",
    "for k in analise.values:\n",
    "    if (k > 0.3) | (k< -0.3):\n",
    "        melhoresAtributos.append(analise.axes[0][count])\n",
    "    count+=1"
   ]
  },
  {
   "cell_type": "code",
   "execution_count": 134,
   "metadata": {},
   "outputs": [
    {
     "data": {
      "text/plain": [
       "['EV/EBITDA',\n",
       " 'P/VPA',\n",
       " 'Cotação',\n",
       " 2018,\n",
       " 'Caixa e Equivalentes',\n",
       " 'Receita Operacional',\n",
       " 'Lucro Bruto',\n",
       " 'Caixa Líquido',\n",
       " 2016,\n",
       " 'Dívida Bruta',\n",
       " 'Patrimônio Líquido',\n",
       " 'Patrimônio',\n",
       " 'Passivo Circulante',\n",
       " 2017,\n",
       " 'Ativo Circulante',\n",
       " 'FCO',\n",
       " 'Beta',\n",
       " 'Ativo Não Circulante',\n",
       " 'Fluxo de Caixa Operacional (FCO)',\n",
       " 'Passivo Não Circulante']"
      ]
     },
     "execution_count": 134,
     "metadata": {},
     "output_type": "execute_result"
    }
   ],
   "source": [
    "X,y=dfCNota[melhoresAtributos], empresasComNotas[\"Avaliação\"]\n",
    "melhoresAtributos"
   ]
  },
  {
   "cell_type": "code",
   "execution_count": 135,
   "metadata": {},
   "outputs": [
    {
     "data": {
      "text/plain": [
       "149     Boa\n",
       "277     Boa\n",
       "136     Boa\n",
       "63     Ruim\n",
       "228     Boa\n",
       "178     Boa\n",
       "356     Boa\n",
       "322    Ruim\n",
       "263    Ruim\n",
       "175     Boa\n",
       "Name: Avaliação, dtype: object"
      ]
     },
     "execution_count": 135,
     "metadata": {},
     "output_type": "execute_result"
    }
   ],
   "source": [
    "X_train,X_test,y_train,y_test=train_test_split(X,y,test_size=0.3,random_state=0)\n",
    "y_test"
   ]
  },
  {
   "cell_type": "code",
   "execution_count": 136,
   "metadata": {},
   "outputs": [],
   "source": [
    "from xgboost import XGBClassifier\n",
    "model = XGBClassifier()"
   ]
  },
  {
   "cell_type": "code",
   "execution_count": 137,
   "metadata": {},
   "outputs": [],
   "source": [
    "metricas = [\"accuracy\",\"balanced_accuracy\",\"average_precision\"]"
   ]
  },
  {
   "cell_type": "code",
   "execution_count": 138,
   "metadata": {},
   "outputs": [
    {
     "data": {
      "text/plain": [
       "dict_keys(['objective', 'base_score', 'booster', 'colsample_bylevel', 'colsample_bynode', 'colsample_bytree', 'gamma', 'gpu_id', 'importance_type', 'interaction_constraints', 'learning_rate', 'max_delta_step', 'max_depth', 'min_child_weight', 'missing', 'monotone_constraints', 'n_estimators', 'n_jobs', 'num_parallel_tree', 'random_state', 'reg_alpha', 'reg_lambda', 'scale_pos_weight', 'subsample', 'tree_method', 'validate_parameters', 'verbosity'])"
      ]
     },
     "execution_count": 138,
     "metadata": {},
     "output_type": "execute_result"
    }
   ],
   "source": [
    "model.get_params().keys()"
   ]
  },
  {
   "cell_type": "code",
   "execution_count": 149,
   "metadata": {},
   "outputs": [
    {
     "data": {
      "text/plain": [
       "'\\neta[0.2,0,01];\\n\\n'"
      ]
     },
     "execution_count": 149,
     "metadata": {},
     "output_type": "execute_result"
    }
   ],
   "source": [
    "parameters = {'objective':['binary:logistic'],\n",
    "              'learning_rate': [0.05], #so called `eta` value\n",
    "              'max_depth': [6],\n",
    "              'min_child_weight': [11],\n",
    "              'subsample': [0.8],\n",
    "              'colsample_bytree': [0.7],\n",
    "              'n_estimators': [1000], #number of trees, change it to 1000 for better results\n",
    "              'missing':[-999],\n",
    "              'seed': [1337]}"
   ]
  },
  {
   "cell_type": "code",
   "execution_count": 159,
   "metadata": {},
   "outputs": [],
   "source": [
    "from sklearn.model_selection import GridSearchCV\n",
    "clf = GridSearchCV(model, parameters, cv=5)"
   ]
  },
  {
   "cell_type": "code",
   "execution_count": 162,
   "metadata": {},
   "outputs": [
    {
     "data": {
      "text/plain": [
       "GridSearchCV(cv=5,\n",
       "             estimator=XGBClassifier(base_score=None, booster=None,\n",
       "                                     colsample_bylevel=None,\n",
       "                                     colsample_bynode=None,\n",
       "                                     colsample_bytree=None, gamma=None,\n",
       "                                     gpu_id=None, importance_type='gain',\n",
       "                                     interaction_constraints=None,\n",
       "                                     learning_rate=None, max_delta_step=None,\n",
       "                                     max_depth=None, min_child_weight=None,\n",
       "                                     missing=nan, monotone_constraints=None,\n",
       "                                     n_estimators=100, n_jobs...\n",
       "                                     num_parallel_tree=None, random_state=None,\n",
       "                                     reg_alpha=None, reg_lambda=None,\n",
       "                                     scale_pos_weight=None, subsample=None,\n",
       "                                     tree_method=None, validate_parameters=None,\n",
       "                                     verbosity=None),\n",
       "             param_grid={'colsample_bytree': [0.7], 'learning_rate': [0.05],\n",
       "                         'max_depth': [6], 'min_child_weight': [11],\n",
       "                         'missing': [-999], 'n_estimators': [1000],\n",
       "                         'objective': ['binary:logistic'], 'seed': [1337],\n",
       "                         'subsample': [0.8]})"
      ]
     },
     "execution_count": 162,
     "metadata": {},
     "output_type": "execute_result"
    }
   ],
   "source": [
    "clf.fit(X_train,y_train)"
   ]
  },
  {
   "cell_type": "code",
   "execution_count": 163,
   "metadata": {},
   "outputs": [
    {
     "data": {
      "text/plain": [
       "XGBClassifier(base_score=0.5, booster='gbtree', colsample_bylevel=1,\n",
       "              colsample_bynode=1, colsample_bytree=0.7, gamma=0, gpu_id=-1,\n",
       "              importance_type='gain', interaction_constraints='',\n",
       "              learning_rate=0.05, max_delta_step=0, max_depth=6,\n",
       "              min_child_weight=11, missing=-999, monotone_constraints='()',\n",
       "              n_estimators=1000, n_jobs=0, num_parallel_tree=1,\n",
       "              random_state=1337, reg_alpha=0, reg_lambda=1, scale_pos_weight=1,\n",
       "              seed=1337, subsample=0.8, tree_method='exact',\n",
       "              validate_parameters=1, verbosity=None)"
      ]
     },
     "execution_count": 163,
     "metadata": {},
     "output_type": "execute_result"
    }
   ],
   "source": [
    "clf.best_estimator_"
   ]
  },
  {
   "cell_type": "code",
   "execution_count": 164,
   "metadata": {},
   "outputs": [],
   "source": [
    "Y_prev=clf.predict(X_test)"
   ]
  },
  {
   "cell_type": "code",
   "execution_count": 165,
   "metadata": {},
   "outputs": [
    {
     "data": {
      "text/plain": [
       "array(['Boa', 'Boa', 'Boa', 'Boa', 'Boa', 'Boa', 'Boa', 'Boa', 'Boa',\n",
       "       'Boa'], dtype=object)"
      ]
     },
     "execution_count": 165,
     "metadata": {},
     "output_type": "execute_result"
    }
   ],
   "source": [
    "Y_prev"
   ]
  },
  {
   "cell_type": "code",
   "execution_count": 166,
   "metadata": {},
   "outputs": [
    {
     "name": "stdout",
     "output_type": "stream",
     "text": [
      "Acurácia:  0.7\n"
     ]
    }
   ],
   "source": [
    "from sklearn.metrics import accuracy_score,classification_report\n",
    "\n",
    "# Avaliar a precisão\n",
    "print(\"Acurácia: \",accuracy_score(y_test, Y_prev))"
   ]
  },
  {
   "cell_type": "code",
   "execution_count": 167,
   "metadata": {},
   "outputs": [
    {
     "name": "stdout",
     "output_type": "stream",
     "text": [
      "              precision    recall  f1-score   support\n",
      "\n",
      "         Boa       0.70      1.00      0.82         7\n",
      "        Ruim       0.00      0.00      0.00         3\n",
      "\n",
      "    accuracy                           0.70        10\n",
      "   macro avg       0.35      0.50      0.41        10\n",
      "weighted avg       0.49      0.70      0.58        10\n",
      "\n"
     ]
    },
    {
     "name": "stderr",
     "output_type": "stream",
     "text": [
      "c:\\users\\danie\\appdata\\local\\programs\\python\\python38\\lib\\site-packages\\sklearn\\metrics\\_classification.py:1221: UndefinedMetricWarning: Precision and F-score are ill-defined and being set to 0.0 in labels with no predicted samples. Use `zero_division` parameter to control this behavior.\n",
      "  _warn_prf(average, modifier, msg_start, len(result))\n"
     ]
    }
   ],
   "source": [
    "print(classification_report(y_test, Y_prev))"
   ]
  },
  {
   "cell_type": "code",
   "execution_count": 168,
   "metadata": {},
   "outputs": [
    {
     "name": "stdout",
     "output_type": "stream",
     "text": [
      "Acurácia balanceada:  0.5\n"
     ]
    }
   ],
   "source": [
    "print(\"Acurácia balanceada: \",(1)/2)"
   ]
  },
  {
   "cell_type": "code",
   "execution_count": 169,
   "metadata": {},
   "outputs": [
    {
     "data": {
      "text/html": [
       "<div>\n",
       "<style scoped>\n",
       "    .dataframe tbody tr th:only-of-type {\n",
       "        vertical-align: middle;\n",
       "    }\n",
       "\n",
       "    .dataframe tbody tr th {\n",
       "        vertical-align: top;\n",
       "    }\n",
       "\n",
       "    .dataframe thead th {\n",
       "        text-align: right;\n",
       "    }\n",
       "</style>\n",
       "<table border=\"1\" class=\"dataframe\">\n",
       "  <thead>\n",
       "    <tr style=\"text-align: right;\">\n",
       "      <th></th>\n",
       "      <th>Nome</th>\n",
       "      <th>Código de Neg.</th>\n",
       "      <th>NotaFundamentei</th>\n",
       "      <th>Avaliação</th>\n",
       "      <th>AvaliaçãoPredita</th>\n",
       "    </tr>\n",
       "  </thead>\n",
       "  <tbody>\n",
       "    <tr>\n",
       "      <th>136</th>\n",
       "      <td>Engie Brasil</td>\n",
       "      <td>EGIE3</td>\n",
       "      <td>4.8</td>\n",
       "      <td>Boa</td>\n",
       "      <td>Boa</td>\n",
       "    </tr>\n",
       "    <tr>\n",
       "      <th>228</th>\n",
       "      <td>Lojas Renner</td>\n",
       "      <td>LREN3</td>\n",
       "      <td>4.8</td>\n",
       "      <td>Boa</td>\n",
       "      <td>Boa</td>\n",
       "    </tr>\n",
       "    <tr>\n",
       "      <th>149</th>\n",
       "      <td>Fleury</td>\n",
       "      <td>FLRY3</td>\n",
       "      <td>4.6</td>\n",
       "      <td>Boa</td>\n",
       "      <td>Boa</td>\n",
       "    </tr>\n",
       "    <tr>\n",
       "      <th>175</th>\n",
       "      <td>Hypera</td>\n",
       "      <td>HYPE3</td>\n",
       "      <td>4.3</td>\n",
       "      <td>Boa</td>\n",
       "      <td>Boa</td>\n",
       "    </tr>\n",
       "    <tr>\n",
       "      <th>277</th>\n",
       "      <td>Qualicorp</td>\n",
       "      <td>QUAL3</td>\n",
       "      <td>3.6</td>\n",
       "      <td>Boa</td>\n",
       "      <td>Boa</td>\n",
       "    </tr>\n",
       "    <tr>\n",
       "      <th>178</th>\n",
       "      <td>Iguatemi</td>\n",
       "      <td>IGTA3</td>\n",
       "      <td>3.3</td>\n",
       "      <td>Boa</td>\n",
       "      <td>Boa</td>\n",
       "    </tr>\n",
       "    <tr>\n",
       "      <th>356</th>\n",
       "      <td>Totvs</td>\n",
       "      <td>TOTS3</td>\n",
       "      <td>3.3</td>\n",
       "      <td>Boa</td>\n",
       "      <td>Boa</td>\n",
       "    </tr>\n",
       "    <tr>\n",
       "      <th>322</th>\n",
       "      <td>Smiles</td>\n",
       "      <td>SMLS3</td>\n",
       "      <td>2.7</td>\n",
       "      <td>Ruim</td>\n",
       "      <td>Boa</td>\n",
       "    </tr>\n",
       "    <tr>\n",
       "      <th>263</th>\n",
       "      <td>Petrobras</td>\n",
       "      <td>PETR3</td>\n",
       "      <td>2.7</td>\n",
       "      <td>Ruim</td>\n",
       "      <td>Boa</td>\n",
       "    </tr>\n",
       "    <tr>\n",
       "      <th>63</th>\n",
       "      <td>BR Malls Par</td>\n",
       "      <td>BRML3</td>\n",
       "      <td>2.6</td>\n",
       "      <td>Ruim</td>\n",
       "      <td>Boa</td>\n",
       "    </tr>\n",
       "  </tbody>\n",
       "</table>\n",
       "</div>"
      ],
      "text/plain": [
       "             Nome Código de Neg.  NotaFundamentei Avaliação AvaliaçãoPredita\n",
       "136  Engie Brasil          EGIE3              4.8       Boa              Boa\n",
       "228  Lojas Renner          LREN3              4.8       Boa              Boa\n",
       "149        Fleury          FLRY3              4.6       Boa              Boa\n",
       "175        Hypera          HYPE3              4.3       Boa              Boa\n",
       "277     Qualicorp          QUAL3              3.6       Boa              Boa\n",
       "178      Iguatemi          IGTA3              3.3       Boa              Boa\n",
       "356         Totvs          TOTS3              3.3       Boa              Boa\n",
       "322        Smiles          SMLS3              2.7      Ruim              Boa\n",
       "263     Petrobras          PETR3              2.7      Ruim              Boa\n",
       "63   BR Malls Par          BRML3              2.6      Ruim              Boa"
      ]
     },
     "execution_count": 169,
     "metadata": {},
     "output_type": "execute_result"
    }
   ],
   "source": [
    "#Criando um outro dataFrame para vizualizar NotaFundamentei x NotaPredita \n",
    "emp=empresasComNotas.loc[X_test.index.values,[\"Nome\",\"Código de Neg.\",\"NotaFundamentei\",\"Avaliação\"]]\n",
    "emp[\"AvaliaçãoPredita\"]=Y_prev\n",
    "emp.sort_values(\"NotaFundamentei\",ascending=False)"
   ]
  },
  {
   "cell_type": "code",
   "execution_count": null,
   "metadata": {},
   "outputs": [],
   "source": []
  }
 ],
 "metadata": {
  "kernelspec": {
   "display_name": "Python 3",
   "language": "python",
   "name": "python3"
  },
  "language_info": {
   "codemirror_mode": {
    "name": "ipython",
    "version": 3
   },
   "file_extension": ".py",
   "mimetype": "text/x-python",
   "name": "python",
   "nbconvert_exporter": "python",
   "pygments_lexer": "ipython3",
   "version": "3.8.3"
  }
 },
 "nbformat": 4,
 "nbformat_minor": 4
}
