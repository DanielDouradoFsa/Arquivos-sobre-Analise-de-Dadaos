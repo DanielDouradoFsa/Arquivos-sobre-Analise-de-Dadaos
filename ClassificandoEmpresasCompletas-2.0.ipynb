{
 "cells": [
  {
   "cell_type": "code",
   "execution_count": 76,
   "metadata": {},
   "outputs": [],
   "source": [
    "#Importando bibliotecas e abrindo arquivos necessários\n",
    "import pandas as pd\n",
    "import numpy as np\n",
    "from Análise_de_Correlação import analiseCorr\n",
    "from Normalização import normalizaDf\n",
    "df= pd.read_excel(\"input_acoes_NotasFundamentei_20200517.xlsx\")\n",
    "abas= pd.ExcelFile(\"input_planilhaCanalHolder_20200211.xlsx\")\n",
    "MA=abas.parse('Múltiplos Ações')\n",
    "FA=abas.parse('Fundamentos Ações')"
   ]
  },
  {
   "cell_type": "code",
   "execution_count": 77,
   "metadata": {},
   "outputs": [],
   "source": [
    "#Fazendo alterações no arquivo, removendo espaços nos nomes das colunas\n",
    "MA.columns = [str(c).replace(' ', '_') for c in MA.columns]\n",
    "FA.columns = [str(c).replace(' ', '_') for c in FA.columns]\n",
    "df.columns = [str(c).replace(' ', '_') for c in df.columns]"
   ]
  },
  {
   "cell_type": "code",
   "execution_count": 3,
   "metadata": {},
   "outputs": [],
   "source": [
    "#Join das tabelas \"Fundamentos ações\" e \"NotasCanalFundamentei\" e um merge entre as duas primeiras abas do arquivo input_planilhaCanalHolder_20200211.xlsx\n",
    "MA=MA.join(df.set_index(\"Código_de_Neg.\"),on=\"Código_de_Neg.\")\n",
    "uniaoAbas = pd.merge(MA, FA, on=\"Nome\", how='outer', suffixes=('', '_y'))\n",
    "uniaoAbas = uniaoAbas.drop(list(uniaoAbas.filter(regex='_y$')), axis=1)\n",
    "#Remoção de uma coluna inútil\n",
    "uniaoAbas.drop(\"Unnamed:_0\",axis=1,inplace=True)"
   ]
  },
  {
   "cell_type": "code",
   "execution_count": 60,
   "metadata": {},
   "outputs": [],
   "source": [
    "dfCompleto=uniaoAbas.replace(\"-\",np.nan)"
   ]
  },
  {
   "cell_type": "code",
   "execution_count": 61,
   "metadata": {},
   "outputs": [],
   "source": [
    "dfCompleto.dropna(inplace=True)"
   ]
  },
  {
   "cell_type": "code",
   "execution_count": 62,
   "metadata": {},
   "outputs": [],
   "source": [
    "dfNormalizado=normalizaDf(dfCompleto)"
   ]
  },
  {
   "cell_type": "code",
   "execution_count": 63,
   "metadata": {},
   "outputs": [],
   "source": [
    "#Chamando a função principal\n",
    "analiseCorrelação=analiseCorr(\"NotaFundamentei20200201\",dfNormalizado)[2:]"
   ]
  },
  {
   "cell_type": "code",
   "execution_count": 64,
   "metadata": {},
   "outputs": [
    {
     "data": {
      "text/plain": [
       "' Paramêtros:\\n        analise: Analise de Correlação feita\\n        dataFrame: DataFrame contendo as empresas a serem rankeadas\\n    Return: O mesmo DataFrame do parâmetro, agora contendo a coluna Score '"
      ]
     },
     "execution_count": 64,
     "metadata": {},
     "output_type": "execute_result"
    }
   ],
   "source": [
    "def calculoAutomatizadoScore(analise,dFrame):\n",
    "    count=0\n",
    "    for peso in analise.values:\n",
    "        if peso>0.236:\n",
    "            print(peso)\n",
    "            print(analise.axes[0][count])                #score+=dFrame[analise.axes[0][count]][linha]*peso\n",
    "        if peso<-0.236:\n",
    "            print(peso)\n",
    "            print(analise.axes[0][count])        \n",
    "        count+=1\n",
    "    return dFrame\n",
    "\"\"\" Paramêtros:\n",
    "        analise: Analise de Correlação feita\n",
    "        dataFrame: DataFrame contendo as empresas a serem rankeadas\n",
    "    Return: O mesmo DataFrame do parâmetro, agora contendo a coluna Score \"\"\""
   ]
  },
  {
   "cell_type": "code",
   "execution_count": 65,
   "metadata": {},
   "outputs": [
    {
     "name": "stdout",
     "output_type": "stream",
     "text": [
      "0.3\n",
      "Lucro_Líquido\n",
      "0.254\n",
      "Fluxo_de_Caixa_de_Financiamentos_(FCF)\n",
      "0.244\n",
      "Crescimento_Médio_Anual\n",
      "0.238\n",
      "Cotação\n",
      "-0.237\n",
      "Dívida_Bruta\n",
      "-0.239\n",
      "Payout\n",
      "-0.33\n",
      "Caixa_Líquido\n"
     ]
    }
   ],
   "source": [
    "#Descobrindo quais são os principais atributos responsáveis pelo aumento de Score das empresas\n",
    "testeAutomatizado=calculoAutomatizadoScore(analiseCorrelação,dfNormalizado)"
   ]
  },
  {
   "cell_type": "code",
   "execution_count": 66,
   "metadata": {},
   "outputs": [],
   "source": [
    "#Tratamento feito para trabalhar com atributos que tiveram valores negativos na analise de correlação,\n",
    "#basicamente, quanto menor eles forem, maior serão o Score da empresa\n",
    "dfNormalizado[\"Dívida_Bruta\"]=1-dfNormalizado[\"Dívida_Bruta\"]\n",
    "dfNormalizado[\"Payout\"]=1-dfNormalizado[\"Payout\"]\n",
    "dfNormalizado[\"Caixa_Líquido\"]=1-dfNormalizado[\"Caixa_Líquido\"]"
   ]
  },
  {
   "cell_type": "code",
   "execution_count": 67,
   "metadata": {},
   "outputs": [],
   "source": [
    "#Criação da coluna \"Score\", calculada por meio de uma média ponderada com os atributos mais importantes,\n",
    "#os pesos estão relacionados aos seus respectivos valores na analise de correlação, exemplo: atributos\n",
    "#com 0,3 na analise terão peso 3 na média ponderada\n",
    "dfNormalizado[\"Score\"]=((dfNormalizado[\"Lucro_Líquido\"]*3)+\n",
    "(dfNormalizado[\"Fluxo_de_Caixa_de_Financiamentos_(FCF)\"]*2)+\n",
    "(dfNormalizado[\"Crescimento_Médio_Anual\"]*2)+\n",
    "(dfNormalizado[\"Cotação\"]*2)+(dfNormalizado[\"Dívida_Bruta\"]*2)+\n",
    "(dfNormalizado[\"Payout\"]*2)+(dfNormalizado[\"Caixa_Líquido\"]*3))/10"
   ]
  },
  {
   "cell_type": "code",
   "execution_count": 68,
   "metadata": {},
   "outputs": [],
   "source": [
    "dfNormalizado[\"Score\"]=((dfNormalizado[\"Score\"]-dfNormalizado[\"Score\"].min())/(dfNormalizado[\"Score\"].max()-dfNormalizado[\"Score\"].min()))*10"
   ]
  },
  {
   "cell_type": "code",
   "execution_count": 69,
   "metadata": {},
   "outputs": [],
   "source": [
    "dfNormalizado[\"Score\"]=dfNormalizado[\"Score\"].round(1)"
   ]
  },
  {
   "cell_type": "code",
   "execution_count": 72,
   "metadata": {},
   "outputs": [],
   "source": [
    "dfNormalizado[\"Nome\"]=dfCompleto[\"Nome\"]"
   ]
  },
  {
   "cell_type": "code",
   "execution_count": 75,
   "metadata": {},
   "outputs": [
    {
     "data": {
      "text/html": [
       "<div>\n",
       "<style scoped>\n",
       "    .dataframe tbody tr th:only-of-type {\n",
       "        vertical-align: middle;\n",
       "    }\n",
       "\n",
       "    .dataframe tbody tr th {\n",
       "        vertical-align: top;\n",
       "    }\n",
       "\n",
       "    .dataframe thead th {\n",
       "        text-align: right;\n",
       "    }\n",
       "</style>\n",
       "<table border=\"1\" class=\"dataframe\">\n",
       "  <thead>\n",
       "    <tr style=\"text-align: right;\">\n",
       "      <th></th>\n",
       "      <th>Nome</th>\n",
       "      <th>Score</th>\n",
       "    </tr>\n",
       "  </thead>\n",
       "  <tbody>\n",
       "    <tr>\n",
       "      <th>31</th>\n",
       "      <td>Ambev S/A</td>\n",
       "      <td>10.0</td>\n",
       "    </tr>\n",
       "    <tr>\n",
       "      <th>278</th>\n",
       "      <td>RaiaDrogasil</td>\n",
       "      <td>9.9</td>\n",
       "    </tr>\n",
       "    <tr>\n",
       "      <th>232</th>\n",
       "      <td>Magaz Luiza</td>\n",
       "      <td>8.9</td>\n",
       "    </tr>\n",
       "    <tr>\n",
       "      <th>356</th>\n",
       "      <td>Totvs</td>\n",
       "      <td>8.7</td>\n",
       "    </tr>\n",
       "    <tr>\n",
       "      <th>218</th>\n",
       "      <td>Localiza</td>\n",
       "      <td>8.5</td>\n",
       "    </tr>\n",
       "  </tbody>\n",
       "</table>\n",
       "</div>"
      ],
      "text/plain": [
       "             Nome  Score\n",
       "31      Ambev S/A   10.0\n",
       "278  RaiaDrogasil    9.9\n",
       "232   Magaz Luiza    8.9\n",
       "356         Totvs    8.7\n",
       "218      Localiza    8.5"
      ]
     },
     "execution_count": 75,
     "metadata": {},
     "output_type": "execute_result"
    }
   ],
   "source": [
    "dfNormalizado.sort_values(\"Score\",ascending=False)[[\"Nome\",\"Score\"]].head(5)"
   ]
  },
  {
   "cell_type": "code",
   "execution_count": 74,
   "metadata": {},
   "outputs": [
    {
     "data": {
      "text/html": [
       "<div>\n",
       "<style scoped>\n",
       "    .dataframe tbody tr th:only-of-type {\n",
       "        vertical-align: middle;\n",
       "    }\n",
       "\n",
       "    .dataframe tbody tr th {\n",
       "        vertical-align: top;\n",
       "    }\n",
       "\n",
       "    .dataframe thead th {\n",
       "        text-align: right;\n",
       "    }\n",
       "</style>\n",
       "<table border=\"1\" class=\"dataframe\">\n",
       "  <thead>\n",
       "    <tr style=\"text-align: right;\">\n",
       "      <th></th>\n",
       "      <th>Código_de_Neg.</th>\n",
       "      <th>NotaFundamentei</th>\n",
       "      <th>NotaFundamentei20200201</th>\n",
       "    </tr>\n",
       "  </thead>\n",
       "  <tbody>\n",
       "    <tr>\n",
       "      <th>6</th>\n",
       "      <td>ABEV3</td>\n",
       "      <td>4.6</td>\n",
       "      <td>4.5</td>\n",
       "    </tr>\n",
       "  </tbody>\n",
       "</table>\n",
       "</div>"
      ],
      "text/plain": [
       "  Código_de_Neg.  NotaFundamentei  NotaFundamentei20200201\n",
       "6          ABEV3              4.6                      4.5"
      ]
     },
     "execution_count": 74,
     "metadata": {},
     "output_type": "execute_result"
    }
   ],
   "source": [
    "df[df[\"Código_de_Neg.\"]==\"ABEV3\"]"
   ]
  },
  {
   "cell_type": "code",
   "execution_count": null,
   "metadata": {},
   "outputs": [],
   "source": []
  }
 ],
 "metadata": {
  "kernelspec": {
   "display_name": "Python 3",
   "language": "python",
   "name": "python3"
  },
  "language_info": {
   "codemirror_mode": {
    "name": "ipython",
    "version": 3
   },
   "file_extension": ".py",
   "mimetype": "text/x-python",
   "name": "python",
   "nbconvert_exporter": "python",
   "pygments_lexer": "ipython3",
   "version": "3.8.3"
  }
 },
 "nbformat": 4,
 "nbformat_minor": 4
}
