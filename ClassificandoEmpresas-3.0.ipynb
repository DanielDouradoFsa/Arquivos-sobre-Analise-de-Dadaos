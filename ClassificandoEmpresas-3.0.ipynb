{
 "cells": [
  {
   "cell_type": "code",
   "execution_count": null,
   "metadata": {},
   "outputs": [],
   "source": [
    "\"\"\"Classificando as empresas como nos demais arquivos porém, está sendo imputado dados nos atributos faltando\"\"\""
   ]
  },
  {
   "cell_type": "code",
   "execution_count": 4,
   "metadata": {},
   "outputs": [],
   "source": [
    "#Importando bibliotecas e abrindo arquivos necessários\n",
    "import pandas as pd\n",
    "import numpy as np\n",
    "from Análise_de_Correlação import analiseCorr\n",
    "from Normalização import normalizaDf\n",
    "from ImputandoDados import imputaDados\n",
    "df= pd.read_excel(\"input_acoes_NotasFundamentei_20200517.xlsx\")\n",
    "abas= pd.ExcelFile(\"input_planilhaCanalHolder_20200211.xlsx\")\n",
    "MA=abas.parse('Múltiplos Ações')\n",
    "FA=abas.parse('Fundamentos Ações')"
   ]
  },
  {
   "cell_type": "code",
   "execution_count": 5,
   "metadata": {},
   "outputs": [],
   "source": [
    "#Fazendo alterações no arquivo, removendo espaços nos nomes das colunas\n",
    "MA.columns = [str(c).replace(' ', '_') for c in MA.columns]\n",
    "FA.columns = [str(c).replace(' ', '_') for c in FA.columns]\n",
    "df.columns = [str(c).replace(' ', '_') for c in df.columns]"
   ]
  },
  {
   "cell_type": "code",
   "execution_count": 6,
   "metadata": {},
   "outputs": [],
   "source": [
    "#Join das tabelas \"Fundamentos ações\" e \"NotasCanalFundamentei\" e um merge entre as duas primeiras abas do arquivo input_planilhaCanalHolder_20200211.xlsx\n",
    "MA=MA.join(df.set_index(\"Código_de_Neg.\"),on=\"Código_de_Neg.\")\n",
    "uniaoAbas = pd.merge(MA, FA, on=\"Nome\", how='outer', suffixes=('', '_y'))\n",
    "uniaoAbas = uniaoAbas.drop(list(uniaoAbas.filter(regex='_y$')), axis=1)\n",
    "#Remoção de uma coluna inútil\n",
    "uniaoAbas.drop(\"Unnamed:_0\",axis=1,inplace=True)"
   ]
  },
  {
   "cell_type": "code",
   "execution_count": 89,
   "metadata": {},
   "outputs": [],
   "source": [
    "#Atualização do dataframe, recebendo novos valores para as colunas numéricas, dessa vez, sem atributos nulos\n",
    "uniaoAbas.replace(\"-\",np.nan,inplace=True)\n",
    "uniaoAbas[uniaoAbas._get_numeric_data().columns]=imputaDados(\"median\",uniaoAbas)"
   ]
  },
  {
   "cell_type": "code",
   "execution_count": 90,
   "metadata": {},
   "outputs": [],
   "source": [
    "dfNormalizado=normalizaDf(uniaoAbas)"
   ]
  },
  {
   "cell_type": "code",
   "execution_count": 91,
   "metadata": {},
   "outputs": [
    {
     "data": {
      "text/plain": [
       "Valor_de_Mercado                          0.204\n",
       "Lucro_Líquido                             0.167\n",
       "2015                                      0.140\n",
       "Fluxo_de_Caixa_de_Investimentos_(FCI)     0.129\n",
       "Ativo_Circulante                          0.098\n",
       "Patrimônio                                0.096\n",
       "Patrimônio_Líquido                        0.096\n",
       "Passivo_Circulante                        0.088\n",
       "Crescimento_Médio_Anual                   0.083\n",
       "P/VPA                                     0.081\n",
       "Cotação                                   0.072\n",
       "Quantidade_de_Negócios                    0.068\n",
       "Volume_Negociado                          0.067\n",
       "PSR                                       0.064\n",
       "ROIC                                      0.042\n",
       "ROE                                       0.041\n",
       "Participação_no_IBRX_100                  0.040\n",
       "Participação_no_Ibovespa                  0.037\n",
       "EV/EBITDA                                 0.027\n",
       "Lucro_Operacional_(EBIT)                  0.014\n",
       "Dividendo_por_Ação                        0.011\n",
       "Lucro_por_Ação                            0.009\n",
       "2018                                      0.007\n",
       "Lucro_Operacional_(EBITDA)                0.007\n",
       "L/P                                       0.005\n",
       "Capex/FCO                                 0.004\n",
       "ROA                                       0.003\n",
       "Payout                                    0.001\n",
       "2017                                      0.001\n",
       "Receita_Operacional                      -0.004\n",
       "P/L                                      -0.008\n",
       "Caixa_e_Equivalentes                     -0.008\n",
       "Lucro_Bruto                              -0.010\n",
       "CAPEX                                    -0.014\n",
       "2016                                     -0.023\n",
       "Ativo_Não_Circulante                     -0.023\n",
       "Dívida_Bruta                             -0.026\n",
       "Caixa_Líquido                            -0.029\n",
       "Passivo_Não_Circulante                   -0.038\n",
       "Div._Líquida/Ebitda                      -0.047\n",
       "Fluxo_de_Caixa_de_Financiamentos_(FCF)   -0.052\n",
       "FCO                                      -0.065\n",
       "Fluxo_de_Caixa_Operacional_(FCO)         -0.073\n",
       "Beta                                     -0.077\n",
       "dtype: float64"
      ]
     },
     "execution_count": 91,
     "metadata": {},
     "output_type": "execute_result"
    }
   ],
   "source": [
    "#Chamando a função principal\n",
    "analiseCorrelação=analiseCorr(\"NotaFundamentei20200201\",dfNormalizado)[2:]\n",
    "analiseCorrelação"
   ]
  },
  {
   "cell_type": "code",
   "execution_count": 92,
   "metadata": {},
   "outputs": [
    {
     "data": {
      "text/plain": [
       "' Paramêtros:\\n        analise: Analise de Correlação feita\\n        dataFrame: DataFrame contendo as empresas a serem rankeadas\\n    Return: O mesmo DataFrame do parâmetro, agora contendo a coluna Score '"
      ]
     },
     "execution_count": 92,
     "metadata": {},
     "output_type": "execute_result"
    }
   ],
   "source": [
    "def calculoAutomatizadoScore(analise,dFrame):\n",
    "    count=0\n",
    "    for peso in analise.values:\n",
    "        if peso>0.1:\n",
    "            print(peso)\n",
    "            print(analise.axes[0][count])                #score+=dFrame[analise.axes[0][count]][linha]*peso\n",
    "        #if peso<-0.236:\n",
    "         #   print(peso)\n",
    "          #  print(analise.axes[0][count])        \n",
    "        count+=1\n",
    "    return dFrame\n",
    "\"\"\" Paramêtros:\n",
    "        analise: Analise de Correlação feita\n",
    "        dataFrame: DataFrame contendo as empresas a serem rankeadas\n",
    "    Return: O mesmo DataFrame do parâmetro, agora contendo a coluna Score \"\"\""
   ]
  },
  {
   "cell_type": "code",
   "execution_count": 93,
   "metadata": {},
   "outputs": [
    {
     "name": "stdout",
     "output_type": "stream",
     "text": [
      "0.204\n",
      "Valor_de_Mercado\n",
      "0.167\n",
      "Lucro_Líquido\n",
      "0.14\n",
      "2015\n",
      "0.129\n",
      "Fluxo_de_Caixa_de_Investimentos_(FCI)\n"
     ]
    }
   ],
   "source": [
    "#Descobrindo quais são os principais atributos responsáveis pelo aumento de Score das empresas\n",
    "testeAutomatizado=calculoAutomatizadoScore(analiseCorrelação,dfNormalizado)"
   ]
  },
  {
   "cell_type": "code",
   "execution_count": 94,
   "metadata": {},
   "outputs": [],
   "source": [
    "#Criação da coluna \"Score\", calculada por meio de uma média ponderada com os atributos mais importantes,\n",
    "#os pesos estão relacionados aos seus respectivos valores na analise de correlação, exemplo: atributos\n",
    "#com 0,3 na analise terão peso 3 na média ponderada\n",
    "dfNormalizado[\"Score\"]=((dfNormalizado[\"Valor_de_Mercado\"]*2)+\n",
    "(dfNormalizado[\"Lucro_Líquido\"]*1)+\n",
    "#(dfNormalizado[\"2015\"]*1)+\n",
    "(dfNormalizado[\"Fluxo_de_Caixa_de_Investimentos_(FCI)\"]*1))/4"
   ]
  },
  {
   "cell_type": "code",
   "execution_count": 95,
   "metadata": {},
   "outputs": [],
   "source": [
    "dfNormalizado[\"Score\"]=((dfNormalizado[\"Score\"]-dfNormalizado[\"Score\"].min())/(dfNormalizado[\"Score\"].max()-dfNormalizado[\"Score\"].min()))*10"
   ]
  },
  {
   "cell_type": "code",
   "execution_count": 96,
   "metadata": {},
   "outputs": [],
   "source": [
    "dfNormalizado[\"Score\"]=dfNormalizado[\"Score\"].round(1)"
   ]
  },
  {
   "cell_type": "code",
   "execution_count": 97,
   "metadata": {},
   "outputs": [],
   "source": [
    "dfNormalizado[\"Nome\"]=uniaoAbas[\"Nome\"]\n",
    "dfNormalizado[\"Código_de_Neg.\"]=uniaoAbas[\"Código_de_Neg.\"]"
   ]
  },
  {
   "cell_type": "code",
   "execution_count": 98,
   "metadata": {},
   "outputs": [
    {
     "data": {
      "text/html": [
       "<div>\n",
       "<style scoped>\n",
       "    .dataframe tbody tr th:only-of-type {\n",
       "        vertical-align: middle;\n",
       "    }\n",
       "\n",
       "    .dataframe tbody tr th {\n",
       "        vertical-align: top;\n",
       "    }\n",
       "\n",
       "    .dataframe thead th {\n",
       "        text-align: right;\n",
       "    }\n",
       "</style>\n",
       "<table border=\"1\" class=\"dataframe\">\n",
       "  <thead>\n",
       "    <tr style=\"text-align: right;\">\n",
       "      <th></th>\n",
       "      <th>Nome</th>\n",
       "      <th>Código_de_Neg.</th>\n",
       "      <th>Score</th>\n",
       "    </tr>\n",
       "  </thead>\n",
       "  <tbody>\n",
       "    <tr>\n",
       "      <th>266</th>\n",
       "      <td>Petrobras</td>\n",
       "      <td>PETR4</td>\n",
       "      <td>10.0</td>\n",
       "    </tr>\n",
       "    <tr>\n",
       "      <th>265</th>\n",
       "      <td>Petrobras</td>\n",
       "      <td>PETR4</td>\n",
       "      <td>10.0</td>\n",
       "    </tr>\n",
       "    <tr>\n",
       "      <th>264</th>\n",
       "      <td>Petrobras</td>\n",
       "      <td>PETR3</td>\n",
       "      <td>10.0</td>\n",
       "    </tr>\n",
       "    <tr>\n",
       "      <th>263</th>\n",
       "      <td>Petrobras</td>\n",
       "      <td>PETR3</td>\n",
       "      <td>10.0</td>\n",
       "    </tr>\n",
       "    <tr>\n",
       "      <th>195</th>\n",
       "      <td>ItauUnibanco</td>\n",
       "      <td>ITUB3</td>\n",
       "      <td>8.2</td>\n",
       "    </tr>\n",
       "  </tbody>\n",
       "</table>\n",
       "</div>"
      ],
      "text/plain": [
       "             Nome Código_de_Neg.  Score\n",
       "266     Petrobras          PETR4   10.0\n",
       "265     Petrobras          PETR4   10.0\n",
       "264     Petrobras          PETR3   10.0\n",
       "263     Petrobras          PETR3   10.0\n",
       "195  ItauUnibanco          ITUB3    8.2"
      ]
     },
     "execution_count": 98,
     "metadata": {},
     "output_type": "execute_result"
    }
   ],
   "source": [
    "dfNormalizado.sort_values(\"Score\",ascending=False)[[\"Nome\",\"Código_de_Neg.\",\"Score\"]].head(5)"
   ]
  },
  {
   "cell_type": "code",
   "execution_count": 99,
   "metadata": {},
   "outputs": [],
   "source": [
    "#No dataFrame, algumas empresas estão duplicadas, nesse novo dataFrame, essas duplicadas estão sendo eliminadas\n",
    "testeRemovendoDuplicadas=dfNormalizado.drop_duplicates(subset=\"Nome\")"
   ]
  },
  {
   "cell_type": "code",
   "execution_count": 100,
   "metadata": {},
   "outputs": [
    {
     "data": {
      "text/html": [
       "<div>\n",
       "<style scoped>\n",
       "    .dataframe tbody tr th:only-of-type {\n",
       "        vertical-align: middle;\n",
       "    }\n",
       "\n",
       "    .dataframe tbody tr th {\n",
       "        vertical-align: top;\n",
       "    }\n",
       "\n",
       "    .dataframe thead th {\n",
       "        text-align: right;\n",
       "    }\n",
       "</style>\n",
       "<table border=\"1\" class=\"dataframe\">\n",
       "  <thead>\n",
       "    <tr style=\"text-align: right;\">\n",
       "      <th></th>\n",
       "      <th>Nome</th>\n",
       "      <th>Código_de_Neg.</th>\n",
       "      <th>Score</th>\n",
       "    </tr>\n",
       "  </thead>\n",
       "  <tbody>\n",
       "    <tr>\n",
       "      <th>263</th>\n",
       "      <td>Petrobras</td>\n",
       "      <td>PETR3</td>\n",
       "      <td>10.0</td>\n",
       "    </tr>\n",
       "    <tr>\n",
       "      <th>194</th>\n",
       "      <td>ItauUnibanco</td>\n",
       "      <td>ITUB3</td>\n",
       "      <td>8.2</td>\n",
       "    </tr>\n",
       "    <tr>\n",
       "      <th>65</th>\n",
       "      <td>Bradesco</td>\n",
       "      <td>BBDC3</td>\n",
       "      <td>6.2</td>\n",
       "    </tr>\n",
       "    <tr>\n",
       "      <th>31</th>\n",
       "      <td>Ambev S/A</td>\n",
       "      <td>ABEV3</td>\n",
       "      <td>4.8</td>\n",
       "    </tr>\n",
       "    <tr>\n",
       "      <th>301</th>\n",
       "      <td>Santander BR</td>\n",
       "      <td>SANB3</td>\n",
       "      <td>3.7</td>\n",
       "    </tr>\n",
       "  </tbody>\n",
       "</table>\n",
       "</div>"
      ],
      "text/plain": [
       "             Nome Código_de_Neg.  Score\n",
       "263     Petrobras          PETR3   10.0\n",
       "194  ItauUnibanco          ITUB3    8.2\n",
       "65       Bradesco          BBDC3    6.2\n",
       "31      Ambev S/A          ABEV3    4.8\n",
       "301  Santander BR          SANB3    3.7"
      ]
     },
     "execution_count": 100,
     "metadata": {},
     "output_type": "execute_result"
    }
   ],
   "source": [
    "testeRemovendoDuplicadas.sort_values(\"Score\",ascending=False)[[\"Nome\",\"Código_de_Neg.\",\"Score\"]].head(5)"
   ]
  },
  {
   "cell_type": "code",
   "execution_count": 101,
   "metadata": {},
   "outputs": [
    {
     "data": {
      "text/html": [
       "<div>\n",
       "<style scoped>\n",
       "    .dataframe tbody tr th:only-of-type {\n",
       "        vertical-align: middle;\n",
       "    }\n",
       "\n",
       "    .dataframe tbody tr th {\n",
       "        vertical-align: top;\n",
       "    }\n",
       "\n",
       "    .dataframe thead th {\n",
       "        text-align: right;\n",
       "    }\n",
       "</style>\n",
       "<table border=\"1\" class=\"dataframe\">\n",
       "  <thead>\n",
       "    <tr style=\"text-align: right;\">\n",
       "      <th></th>\n",
       "      <th>Código_de_Neg.</th>\n",
       "      <th>NotaFundamentei</th>\n",
       "      <th>NotaFundamentei20200201</th>\n",
       "    </tr>\n",
       "  </thead>\n",
       "  <tbody>\n",
       "  </tbody>\n",
       "</table>\n",
       "</div>"
      ],
      "text/plain": [
       "Empty DataFrame\n",
       "Columns: [Código_de_Neg., NotaFundamentei, NotaFundamentei20200201]\n",
       "Index: []"
      ]
     },
     "execution_count": 101,
     "metadata": {},
     "output_type": "execute_result"
    }
   ],
   "source": [
    "df[df[\"Código_de_Neg.\"]==\"SANB3\"]"
   ]
  }
 ],
 "metadata": {
  "kernelspec": {
   "display_name": "Python 3",
   "language": "python",
   "name": "python3"
  },
  "language_info": {
   "codemirror_mode": {
    "name": "ipython",
    "version": 3
   },
   "file_extension": ".py",
   "mimetype": "text/x-python",
   "name": "python",
   "nbconvert_exporter": "python",
   "pygments_lexer": "ipython3",
   "version": "3.8.3"
  }
 },
 "nbformat": 4,
 "nbformat_minor": 4
}
