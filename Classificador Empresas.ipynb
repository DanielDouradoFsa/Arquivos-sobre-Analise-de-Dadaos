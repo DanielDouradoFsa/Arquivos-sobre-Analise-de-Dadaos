{
 "cells": [
  {
   "cell_type": "code",
   "execution_count": 3,
   "metadata": {},
   "outputs": [],
   "source": [
    "import pandas as pd\n",
    "import numpy as np\n",
    "import sklearn\n",
    "import matplotlib.pyplot as plt\n",
    "# Importando o módulo de Regressão Linear do scikit-learn\n",
    "from sklearn.linear_model import LinearRegression\n",
    "from sklearn.model_selection import train_test_split\n",
    "from Análise_de_Correlação import analiseCorr\n",
    "from Normalização import normalizaDf\n",
    "df= pd.read_excel(\"input_acoes_NotasFundamentei_20200517.xlsx\")\n",
    "abas= pd.ExcelFile(\"input_planilhaCanalHolder_20200211.xlsx\")\n",
    "MA=abas.parse('Múltiplos Ações')\n",
    "FA=abas.parse('Fundamentos Ações')"
   ]
  },
  {
   "cell_type": "code",
   "execution_count": 2,
   "metadata": {},
   "outputs": [],
   "source": [
    "#Join das tabelas \"Fundamentos ações\" e \"NotasCanalFundamentei\" e um merge entre as duas primeiras abas do arquivo input_planilhaCanalHolder_20200211.xlsx\n",
    "MA=MA.join(df.set_index(\"Código de Neg.\"),on=\"Código de Neg.\")\n",
    "uniaoAbas = pd.merge(MA, FA, on=\"Nome\", how='outer', suffixes=('', '_y'))\n",
    "uniaoAbas = uniaoAbas.drop(list(uniaoAbas.filter(regex='_y$')), axis=1)\n",
    "#Remoção de uma coluna inútil\n",
    "uniaoAbas.drop(\"Unnamed: 0\",axis=1,inplace=True)"
   ]
  },
  {
   "cell_type": "code",
   "execution_count": 4,
   "metadata": {},
   "outputs": [],
   "source": [
    "#Removando uma coluna de notas que nao foi utilizada, pois tem dados faltando\n",
    "uniaoAbas.drop(\"NotaFundamentei20200201\",axis=1,inplace=True)"
   ]
  },
  {
   "cell_type": "code",
   "execution_count": 5,
   "metadata": {},
   "outputs": [],
   "source": [
    "#Selecionando todas as empresas que possuem notas e estão com seus dados completos\n",
    "empresasComNotas=uniaoAbas.replace(\"-\",np.nan)\n",
    "empresasComNotas.dropna(inplace=True)"
   ]
  },
  {
   "cell_type": "code",
   "execution_count": 18,
   "metadata": {},
   "outputs": [],
   "source": [
    "empresasComNotas['Avaliação'] = empresasComNotas['NotaFundamentei'] >= 3\n",
    "empresasComNotas.replace(True,\"Boa\",inplace=True)\n",
    "empresasComNotas.replace(False,\"Ruim\",inplace=True)"
   ]
  },
  {
   "cell_type": "code",
   "execution_count": 20,
   "metadata": {},
   "outputs": [],
   "source": [
    "dfCNota=normalizaDf(empresasComNotas)"
   ]
  },
  {
   "cell_type": "code",
   "execution_count": 22,
   "metadata": {},
   "outputs": [],
   "source": [
    "#Gerando a analise de correlação dos atributos, já excluindo a \"NotaFundamentei\" da resposta\n",
    "analise=analiseCorr(\"NotaFundamentei\",dfCNota)[1:]"
   ]
  },
  {
   "cell_type": "code",
   "execution_count": 25,
   "metadata": {},
   "outputs": [],
   "source": [
    "#Selecionando os melhores atributos para treinar o regressor\n",
    "melhoresAtributos=[]\n",
    "count=0\n",
    "for k in analise.values:\n",
    "    if (k > 0.3) | (k< -0.3):\n",
    "        melhoresAtributos.append(analise.axes[0][count])"
   ]
  },
  {
   "cell_type": "code",
   "execution_count": 24,
   "metadata": {},
   "outputs": [],
   "source": [
    "X,y=dfCNota[melhoresAtributos], empresasComNotas[\"Avaliação\"]"
   ]
  },
  {
   "cell_type": "code",
   "execution_count": 60,
   "metadata": {},
   "outputs": [
    {
     "data": {
      "text/plain": [
       "149     Boa\n",
       "277     Boa\n",
       "136     Boa\n",
       "63     Ruim\n",
       "228     Boa\n",
       "178     Boa\n",
       "356     Boa\n",
       "322    Ruim\n",
       "263    Ruim\n",
       "175     Boa\n",
       "Name: Avaliação, dtype: object"
      ]
     },
     "execution_count": 60,
     "metadata": {},
     "output_type": "execute_result"
    }
   ],
   "source": [
    "X_train,X_test,y_train,y_test=train_test_split(X,y,test_size=0.3,random_state=0)\n",
    "y_test"
   ]
  },
  {
   "cell_type": "code",
   "execution_count": 29,
   "metadata": {},
   "outputs": [],
   "source": [
    "from sklearn.naive_bayes import GaussianNB\n",
    "gnb = GaussianNB()"
   ]
  },
  {
   "cell_type": "code",
   "execution_count": 30,
   "metadata": {},
   "outputs": [
    {
     "data": {
      "text/plain": [
       "GaussianNB()"
      ]
     },
     "execution_count": 30,
     "metadata": {},
     "output_type": "execute_result"
    }
   ],
   "source": [
    "gnb.fit(X_train, y_train)"
   ]
  },
  {
   "cell_type": "code",
   "execution_count": 31,
   "metadata": {},
   "outputs": [],
   "source": [
    "Y_prev=gnb.predict(X_test)"
   ]
  },
  {
   "cell_type": "code",
   "execution_count": 32,
   "metadata": {},
   "outputs": [
    {
     "data": {
      "text/plain": [
       "array(['Boa', 'Boa', 'Boa', 'Boa', 'Boa', 'Boa', 'Boa', 'Boa', 'Ruim',\n",
       "       'Boa'], dtype='<U4')"
      ]
     },
     "execution_count": 32,
     "metadata": {},
     "output_type": "execute_result"
    }
   ],
   "source": [
    "Y_prev"
   ]
  },
  {
   "cell_type": "code",
   "execution_count": 35,
   "metadata": {},
   "outputs": [],
   "source": [
    "#Criando um outro dataFrame para vizualizar NotaFundamentei x NotaPredita \n",
    "emp=empresasComNotas.loc[X_test.index.values,[\"Nome\",\"Código de Neg.\",\"NotaFundamentei\",\"Avaliação\"]]"
   ]
  },
  {
   "cell_type": "code",
   "execution_count": 36,
   "metadata": {},
   "outputs": [],
   "source": [
    "emp[\"AvaliaçãoPredita\"]=Y_prev"
   ]
  },
  {
   "cell_type": "code",
   "execution_count": 37,
   "metadata": {},
   "outputs": [
    {
     "data": {
      "text/html": [
       "<div>\n",
       "<style scoped>\n",
       "    .dataframe tbody tr th:only-of-type {\n",
       "        vertical-align: middle;\n",
       "    }\n",
       "\n",
       "    .dataframe tbody tr th {\n",
       "        vertical-align: top;\n",
       "    }\n",
       "\n",
       "    .dataframe thead th {\n",
       "        text-align: right;\n",
       "    }\n",
       "</style>\n",
       "<table border=\"1\" class=\"dataframe\">\n",
       "  <thead>\n",
       "    <tr style=\"text-align: right;\">\n",
       "      <th></th>\n",
       "      <th>Nome</th>\n",
       "      <th>Código de Neg.</th>\n",
       "      <th>NotaFundamentei</th>\n",
       "      <th>Avaliação</th>\n",
       "      <th>AvaliaçãoPredita</th>\n",
       "    </tr>\n",
       "  </thead>\n",
       "  <tbody>\n",
       "    <tr>\n",
       "      <th>136</th>\n",
       "      <td>Engie Brasil</td>\n",
       "      <td>EGIE3</td>\n",
       "      <td>4.8</td>\n",
       "      <td>Boa</td>\n",
       "      <td>Boa</td>\n",
       "    </tr>\n",
       "    <tr>\n",
       "      <th>228</th>\n",
       "      <td>Lojas Renner</td>\n",
       "      <td>LREN3</td>\n",
       "      <td>4.8</td>\n",
       "      <td>Boa</td>\n",
       "      <td>Boa</td>\n",
       "    </tr>\n",
       "    <tr>\n",
       "      <th>149</th>\n",
       "      <td>Fleury</td>\n",
       "      <td>FLRY3</td>\n",
       "      <td>4.6</td>\n",
       "      <td>Boa</td>\n",
       "      <td>Boa</td>\n",
       "    </tr>\n",
       "    <tr>\n",
       "      <th>175</th>\n",
       "      <td>Hypera</td>\n",
       "      <td>HYPE3</td>\n",
       "      <td>4.3</td>\n",
       "      <td>Boa</td>\n",
       "      <td>Boa</td>\n",
       "    </tr>\n",
       "    <tr>\n",
       "      <th>277</th>\n",
       "      <td>Qualicorp</td>\n",
       "      <td>QUAL3</td>\n",
       "      <td>3.6</td>\n",
       "      <td>Boa</td>\n",
       "      <td>Boa</td>\n",
       "    </tr>\n",
       "    <tr>\n",
       "      <th>178</th>\n",
       "      <td>Iguatemi</td>\n",
       "      <td>IGTA3</td>\n",
       "      <td>3.3</td>\n",
       "      <td>Boa</td>\n",
       "      <td>Boa</td>\n",
       "    </tr>\n",
       "    <tr>\n",
       "      <th>356</th>\n",
       "      <td>Totvs</td>\n",
       "      <td>TOTS3</td>\n",
       "      <td>3.3</td>\n",
       "      <td>Boa</td>\n",
       "      <td>Boa</td>\n",
       "    </tr>\n",
       "    <tr>\n",
       "      <th>322</th>\n",
       "      <td>Smiles</td>\n",
       "      <td>SMLS3</td>\n",
       "      <td>2.7</td>\n",
       "      <td>Ruim</td>\n",
       "      <td>Boa</td>\n",
       "    </tr>\n",
       "    <tr>\n",
       "      <th>263</th>\n",
       "      <td>Petrobras</td>\n",
       "      <td>PETR3</td>\n",
       "      <td>2.7</td>\n",
       "      <td>Ruim</td>\n",
       "      <td>Ruim</td>\n",
       "    </tr>\n",
       "    <tr>\n",
       "      <th>63</th>\n",
       "      <td>BR Malls Par</td>\n",
       "      <td>BRML3</td>\n",
       "      <td>2.6</td>\n",
       "      <td>Ruim</td>\n",
       "      <td>Boa</td>\n",
       "    </tr>\n",
       "  </tbody>\n",
       "</table>\n",
       "</div>"
      ],
      "text/plain": [
       "             Nome Código de Neg.  NotaFundamentei Avaliação AvaliaçãoPredita\n",
       "136  Engie Brasil          EGIE3              4.8       Boa              Boa\n",
       "228  Lojas Renner          LREN3              4.8       Boa              Boa\n",
       "149        Fleury          FLRY3              4.6       Boa              Boa\n",
       "175        Hypera          HYPE3              4.3       Boa              Boa\n",
       "277     Qualicorp          QUAL3              3.6       Boa              Boa\n",
       "178      Iguatemi          IGTA3              3.3       Boa              Boa\n",
       "356         Totvs          TOTS3              3.3       Boa              Boa\n",
       "322        Smiles          SMLS3              2.7      Ruim              Boa\n",
       "263     Petrobras          PETR3              2.7      Ruim             Ruim\n",
       "63   BR Malls Par          BRML3              2.6      Ruim              Boa"
      ]
     },
     "execution_count": 37,
     "metadata": {},
     "output_type": "execute_result"
    }
   ],
   "source": [
    "emp.sort_values(\"NotaFundamentei\",ascending=False)"
   ]
  },
  {
   "cell_type": "code",
   "execution_count": 61,
   "metadata": {},
   "outputs": [
    {
     "name": "stdout",
     "output_type": "stream",
     "text": [
      "0.8\n"
     ]
    }
   ],
   "source": [
    "from sklearn.metrics import accuracy_score,classification_report\n",
    "\n",
    "# Avaliar a precisão\n",
    "print(\"Acurácia: \",accuracy_score(y_test, Y_prev))"
   ]
  },
  {
   "cell_type": "code",
   "execution_count": 64,
   "metadata": {},
   "outputs": [
    {
     "name": "stdout",
     "output_type": "stream",
     "text": [
      "Clasification report\n",
      "              precision    recall  f1-score   support\n",
      "\n",
      "         Boa       0.78      1.00      0.88         7\n",
      "        Ruim       1.00      0.33      0.50         3\n",
      "\n",
      "    accuracy                           0.80        10\n",
      "   macro avg       0.89      0.67      0.69        10\n",
      "weighted avg       0.84      0.80      0.76        10\n",
      "\n"
     ]
    }
   ],
   "source": [
    "print(classification_report(y_test, Y_prev))"
   ]
  },
  {
   "cell_type": "code",
   "execution_count": 73,
   "metadata": {},
   "outputs": [],
   "source": [
    "def get_confusion_matrix(reais, preditos, labels):\n",
    "    \"\"\"\n",
    "    Uma função que retorna a matriz de confusão para uma classificação binária\n",
    "    \n",
    "    Args:\n",
    "        reais (list): lista de valores reais\n",
    "        preditos (list): lista de valores preditos pelo modelos\n",
    "        labels (list): lista de labels a serem avaliados.\n",
    "            É importante que ela esteja presente, pois usaremos ela para entender\n",
    "            quem é a classe positiva e quem é a classe negativa\n",
    "    \n",
    "    Returns:\n",
    "        Um numpy.array, no formato:\n",
    "            numpy.array([\n",
    "                [ tp, fp ],\n",
    "                [ fn, tn ]\n",
    "            ])\n",
    "    \"\"\"\n",
    "    # não implementado\n",
    "    if len(labels) > 2:\n",
    "        return None\n",
    "\n",
    "    if len(reais) != len(preditos):\n",
    "        return None\n",
    "    \n",
    "    # considerando a primeira classe como a positiva, e a segunda a negativa\n",
    "    true_class = labels[0]\n",
    "    negative_class = labels[1]\n",
    "\n",
    "    # valores preditos corretamente\n",
    "    tp = 0\n",
    "    tn = 0\n",
    "    \n",
    "    # valores preditos incorretamente\n",
    "    fp = 0\n",
    "    fn = 0\n",
    "    \n",
    "    for (indice, v_real) in enumerate(reais):\n",
    "        v_predito = preditos[indice]\n",
    "\n",
    "        # se trata de um valor real da classe positiva\n",
    "        if v_real == true_class:\n",
    "            tp += 1 if v_predito == v_real else 0\n",
    "            fp += 1 if v_predito != v_real else 0\n",
    "        else:\n",
    "            tn += 1 if v_predito == v_real else 0\n",
    "            fn += 1 if v_predito != v_real else 0\n",
    "    \n",
    "    return np.array([\n",
    "        # valores da classe positiva\n",
    "        [ tp, fp ],\n",
    "        # valores da classe negativa\n",
    "        [ fn, tn ]\n",
    "    ])\n",
    "\n",
    "matrizDeConfusao=get_confusion_matrix(reais=y_test, preditos=Y_prev, labels=[\"Boa\",\"Ruim\"])\n",
    "# array([[3, 1], [2, 4]])"
   ]
  },
  {
   "cell_type": "code",
   "execution_count": 74,
   "metadata": {},
   "outputs": [
    {
     "data": {
      "text/plain": [
       "array([[7, 0],\n",
       "       [2, 1]])"
      ]
     },
     "execution_count": 74,
     "metadata": {},
     "output_type": "execute_result"
    }
   ],
   "source": [
    "matrizDeConfusao\n",
    "'''\n",
    "    numpy.array([\n",
    "                [ tp, fp ],\n",
    "                [ fn, tn ]\n",
    "            ])\n",
    "'''"
   ]
  },
  {
   "cell_type": "markdown",
   "metadata": {},
   "source": []
  }
 ],
 "metadata": {
  "kernelspec": {
   "display_name": "Python 3",
   "language": "python",
   "name": "python3"
  },
  "language_info": {
   "codemirror_mode": {
    "name": "ipython",
    "version": 3
   },
   "file_extension": ".py",
   "mimetype": "text/x-python",
   "name": "python",
   "nbconvert_exporter": "python",
   "pygments_lexer": "ipython3",
   "version": "3.8.3"
  }
 },
 "nbformat": 4,
 "nbformat_minor": 4
}
