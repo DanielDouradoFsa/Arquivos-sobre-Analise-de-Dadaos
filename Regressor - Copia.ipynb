{
 "cells": [
  {
   "cell_type": "code",
   "execution_count": 8,
   "metadata": {},
   "outputs": [],
   "source": [
    "import pandas as pd\n",
    "import numpy as np\n",
    "import sklearn\n",
    "import matplotlib.pyplot as plt\n",
    "# Importando o módulo de Regressão Linear do scikit-learn\n",
    "from sklearn.linear_model import LinearRegression\n",
    "from sklearn.model_selection import train_test_split\n",
    "from Análise_de_Correlação import analiseCorr\n",
    "from Normalização import normalizaDf\n",
    "df= pd.read_excel(\"input_acoes_NotasFundamentei_20200517.xlsx\")\n",
    "abas= pd.ExcelFile(\"input_planilhaCanalHolder_20200211.xlsx\")\n",
    "MA=abas.parse('Múltiplos Ações')\n",
    "FA=abas.parse('Fundamentos Ações')"
   ]
  },
  {
   "cell_type": "code",
   "execution_count": 9,
   "metadata": {},
   "outputs": [],
   "source": [
    "#Join das tabelas \"Fundamentos ações\" e \"NotasCanalFundamentei\" e um merge entre as duas primeiras abas do arquivo input_planilhaCanalHolder_20200211.xlsx\n",
    "MA=MA.join(df.set_index(\"Código de Neg.\"),on=\"Código de Neg.\")\n",
    "uniaoAbas = pd.merge(MA, FA, on=\"Nome\", how='outer', suffixes=('', '_y'))\n",
    "uniaoAbas = uniaoAbas.drop(list(uniaoAbas.filter(regex='_y$')), axis=1)\n",
    "#Remoção de uma coluna inútil\n",
    "uniaoAbas.drop(\"Unnamed: 0\",axis=1,inplace=True)"
   ]
  },
  {
   "cell_type": "code",
   "execution_count": 10,
   "metadata": {},
   "outputs": [],
   "source": [
    "#Removando uma coluna de notas que nao foi utilizada, pois tem dados faltando\n",
    "uniaoAbas.drop(\"NotaFundamentei20200201\",axis=1,inplace=True)"
   ]
  },
  {
   "cell_type": "code",
   "execution_count": 28,
   "metadata": {},
   "outputs": [],
   "source": [
    "#Selecionando todas as empresas que possuem notas e estão com seus dados completos\n",
    "empresasComNotas=uniaoAbas.replace(\"-\",np.nan)\n",
    "empresasComNotas.dropna(inplace=True)"
   ]
  },
  {
   "cell_type": "code",
   "execution_count": 121,
   "metadata": {},
   "outputs": [],
   "source": [
    "#Normalizando o dataFrames\n",
    "#.drop('NotaFundamentei', axis=1)\n",
    "dfCNota=normalizaDf(empresasComNotas)"
   ]
  },
  {
   "cell_type": "code",
   "execution_count": 188,
   "metadata": {},
   "outputs": [],
   "source": [
    "#Gerando a analise de correlação dos atributos, já excluindo a \"NotaFundamentei\" da resposta\n",
    "analise=analiseCorr(\"NotaFundamentei\",dfCNota)[1:]"
   ]
  },
  {
   "cell_type": "code",
   "execution_count": 217,
   "metadata": {},
   "outputs": [],
   "source": [
    "#Selecionando os melhores atributos para treinar o regressor\n",
    "melhoresAtributos=[]\n",
    "count=0\n",
    "for k in analiseCorrelação.values:\n",
    "    if (k > 0.3) | (k< -0.3):\n",
    "        melhoresAtributos.append(analise.axes[0][count])\n",
    "    count+=1"
   ]
  },
  {
   "cell_type": "code",
   "execution_count": 238,
   "metadata": {},
   "outputs": [
    {
     "data": {
      "text/plain": [
       "(32, 20)"
      ]
     },
     "execution_count": 238,
     "metadata": {},
     "output_type": "execute_result"
    }
   ],
   "source": [
    "X,y=dfCNota[melhoresAtributos], empresasComNotas[\"NotaFundamentei\"]"
   ]
  },
  {
   "cell_type": "code",
   "execution_count": 235,
   "metadata": {},
   "outputs": [
    {
     "data": {
      "text/plain": [
       "(10, 20)"
      ]
     },
     "execution_count": 235,
     "metadata": {},
     "output_type": "execute_result"
    }
   ],
   "source": [
    "X_train,X_test,y_train,y_test=train_test_split(X,y,test_size=0.3,random_state=0)"
   ]
  },
  {
   "cell_type": "code",
   "execution_count": 220,
   "metadata": {},
   "outputs": [
    {
     "data": {
      "text/plain": [
       "LinearRegression()"
      ]
     },
     "execution_count": 220,
     "metadata": {},
     "output_type": "execute_result"
    }
   ],
   "source": [
    "regression = LinearRegression()\n",
    "regression.fit(X_train, y_train)"
   ]
  },
  {
   "cell_type": "code",
   "execution_count": 221,
   "metadata": {},
   "outputs": [],
   "source": [
    "Y_prev = regression.predict(X_test)"
   ]
  },
  {
   "cell_type": "code",
   "execution_count": 222,
   "metadata": {},
   "outputs": [
    {
     "data": {
      "image/png": "[encoded data removed]",
      "text/plain": [
       "<Figure size 432x288 with 1 Axes>"
      ]
     },
     "metadata": {
      "needs_background": "light"
     },
     "output_type": "display_data"
    }
   ],
   "source": [
    "plt.scatter(y_test, Y_prev)\n",
    "range = [y_test.min(), Y_prev.max()]\n",
    "plt.plot(range, range, 'red')\n",
    "plt.xlabel('Nota real')\n",
    "plt.ylabel('Nota predita')\n",
    "plt.show()"
   ]
  },
  {
   "cell_type": "code",
   "execution_count": 223,
   "metadata": {},
   "outputs": [
    {
     "name": "stdout",
     "output_type": "stream",
     "text": [
      "MAE 0.5950711501468895\n"
     ]
    }
   ],
   "source": [
    "from sklearn.metrics import mean_absolute_error\n",
    "print(f'MAE {mean_absolute_error(y_test, Y_prev)}')"
   ]
  },
  {
   "cell_type": "code",
   "execution_count": 224,
   "metadata": {},
   "outputs": [
    {
     "name": "stdout",
     "output_type": "stream",
     "text": [
      "MSE 0.5782778906355268\n"
     ]
    }
   ],
   "source": [
    "from sklearn.metrics import mean_squared_error\n",
    "print(f'MSE {mean_squared_error(y_test, Y_prev)}')"
   ]
  },
  {
   "cell_type": "code",
   "execution_count": 229,
   "metadata": {},
   "outputs": [],
   "source": [
    "#Criando um outro dataFrame para vizualizar NotaFundamentei x NotaPredita \n",
    "emp=empresasComNotas.loc[X_test.index.values,[\"Nome\",\"Código de Neg.\",\"NotaFundamentei\"]]"
   ]
  },
  {
   "cell_type": "code",
   "execution_count": 230,
   "metadata": {},
   "outputs": [],
   "source": [
    "emp[\"NotaPredita\"]=Y_prev.round(1)"
   ]
  },
  {
   "cell_type": "code",
   "execution_count": 231,
   "metadata": {},
   "outputs": [
    {
     "data": {
      "text/html": [
       "<div>\n",
       "<style scoped>\n",
       "    .dataframe tbody tr th:only-of-type {\n",
       "        vertical-align: middle;\n",
       "    }\n",
       "\n",
       "    .dataframe tbody tr th {\n",
       "        vertical-align: top;\n",
       "    }\n",
       "\n",
       "    .dataframe thead th {\n",
       "        text-align: right;\n",
       "    }\n",
       "</style>\n",
       "<table border=\"1\" class=\"dataframe\">\n",
       "  <thead>\n",
       "    <tr style=\"text-align: right;\">\n",
       "      <th></th>\n",
       "      <th>Nome</th>\n",
       "      <th>Código de Neg.</th>\n",
       "      <th>NotaFundamentei</th>\n",
       "      <th>NotaPredita</th>\n",
       "    </tr>\n",
       "  </thead>\n",
       "  <tbody>\n",
       "    <tr>\n",
       "      <th>136</th>\n",
       "      <td>Engie Brasil</td>\n",
       "      <td>EGIE3</td>\n",
       "      <td>4.8</td>\n",
       "      <td>3.5</td>\n",
       "    </tr>\n",
       "    <tr>\n",
       "      <th>228</th>\n",
       "      <td>Lojas Renner</td>\n",
       "      <td>LREN3</td>\n",
       "      <td>4.8</td>\n",
       "      <td>3.8</td>\n",
       "    </tr>\n",
       "    <tr>\n",
       "      <th>149</th>\n",
       "      <td>Fleury</td>\n",
       "      <td>FLRY3</td>\n",
       "      <td>4.6</td>\n",
       "      <td>4.0</td>\n",
       "    </tr>\n",
       "    <tr>\n",
       "      <th>175</th>\n",
       "      <td>Hypera</td>\n",
       "      <td>HYPE3</td>\n",
       "      <td>4.3</td>\n",
       "      <td>4.4</td>\n",
       "    </tr>\n",
       "    <tr>\n",
       "      <th>277</th>\n",
       "      <td>Qualicorp</td>\n",
       "      <td>QUAL3</td>\n",
       "      <td>3.6</td>\n",
       "      <td>3.7</td>\n",
       "    </tr>\n",
       "    <tr>\n",
       "      <th>178</th>\n",
       "      <td>Iguatemi</td>\n",
       "      <td>IGTA3</td>\n",
       "      <td>3.3</td>\n",
       "      <td>3.6</td>\n",
       "    </tr>\n",
       "    <tr>\n",
       "      <th>356</th>\n",
       "      <td>Totvs</td>\n",
       "      <td>TOTS3</td>\n",
       "      <td>3.3</td>\n",
       "      <td>4.4</td>\n",
       "    </tr>\n",
       "    <tr>\n",
       "      <th>322</th>\n",
       "      <td>Smiles</td>\n",
       "      <td>SMLS3</td>\n",
       "      <td>2.7</td>\n",
       "      <td>3.9</td>\n",
       "    </tr>\n",
       "    <tr>\n",
       "      <th>263</th>\n",
       "      <td>Petrobras</td>\n",
       "      <td>PETR3</td>\n",
       "      <td>2.7</td>\n",
       "      <td>2.7</td>\n",
       "    </tr>\n",
       "    <tr>\n",
       "      <th>63</th>\n",
       "      <td>BR Malls Par</td>\n",
       "      <td>BRML3</td>\n",
       "      <td>2.6</td>\n",
       "      <td>2.3</td>\n",
       "    </tr>\n",
       "  </tbody>\n",
       "</table>\n",
       "</div>"
      ],
      "text/plain": [
       "             Nome Código de Neg.  NotaFundamentei  NotaPredita\n",
       "136  Engie Brasil          EGIE3              4.8          3.5\n",
       "228  Lojas Renner          LREN3              4.8          3.8\n",
       "149        Fleury          FLRY3              4.6          4.0\n",
       "175        Hypera          HYPE3              4.3          4.4\n",
       "277     Qualicorp          QUAL3              3.6          3.7\n",
       "178      Iguatemi          IGTA3              3.3          3.6\n",
       "356         Totvs          TOTS3              3.3          4.4\n",
       "322        Smiles          SMLS3              2.7          3.9\n",
       "263     Petrobras          PETR3              2.7          2.7\n",
       "63   BR Malls Par          BRML3              2.6          2.3"
      ]
     },
     "execution_count": 231,
     "metadata": {},
     "output_type": "execute_result"
    }
   ],
   "source": [
    "emp.sort_values(\"NotaFundamentei\",ascending=False)"
   ]
  },
  {
   "cell_type": "code",
   "execution_count": null,
   "metadata": {},
   "outputs": [],
   "source": []
  }
 ],
 "metadata": {
  "kernelspec": {
   "display_name": "Python 3",
   "language": "python",
   "name": "python3"
  },
  "language_info": {
   "codemirror_mode": {
    "name": "ipython",
    "version": 3
   },
   "file_extension": ".py",
   "mimetype": "text/x-python",
   "name": "python",
   "nbconvert_exporter": "python",
   "pygments_lexer": "ipython3",
   "version": "3.8.3"
  }
 },
 "nbformat": 4,
 "nbformat_minor": 4
}
